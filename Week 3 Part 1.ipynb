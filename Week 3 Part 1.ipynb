{
    "nbformat_minor": 2, 
    "cells": [
        {
            "source": "# Segmenting and Clustering Neighborhoods in Toronto", 
            "cell_type": "markdown", 
            "metadata": {}
        }, 
        {
            "execution_count": 1, 
            "cell_type": "code", 
            "source": "# Initialize libraries\nimport pandas as pd\nimport numpy as np\nfrom bs4 import BeautifulSoup as bs", 
            "outputs": [], 
            "metadata": {}
        }, 
        {
            "source": "The next section will open the HTML file with BeautifulSoup and confirm successful input. The HTML file was downloaded into a local folder.", 
            "cell_type": "markdown", 
            "metadata": {}
        }, 
        {
            "execution_count": 2, 
            "cell_type": "code", 
            "source": "# Open html file with BeautifulSoup and confirm the name of the tree\nwith open('List of postal codes of Canada_ M - Wikipedia.htm') as fp:\n    soup = bs(fp)\nsoup.name", 
            "outputs": [
                {
                    "execution_count": 2, 
                    "output_type": "execute_result", 
                    "data": {
                        "text/plain": "'[document]'"
                    }, 
                    "metadata": {}
                }
            ], 
            "metadata": {}
        }, 
        {
            "source": "Then we will parse for a table and create headers for our dataframe. After that, we will append each row from the table to the dataframe, making sure to ignore rows with no assigned Borough, and setting the Neighborhood to the Borough if no Neighborhood is present.", 
            "cell_type": "markdown", 
            "metadata": {}
        }, 
        {
            "execution_count": 3, 
            "cell_type": "code", 
            "source": "# Check the table elements and create a dataframe\n\n# First check table headers and create dataframe columns\nlabels = []\nlen_col = 0\nfor x in soup.table.find_all('th'):\n    y = str(x)\n    #for x in headers:\n    y = y.strip('\\<th\\>')\n    y = y.strip('</')\n    y = y.strip('\\n')\n    labels.append(y)\n    len_col = len_col + 1\nt_df = pd.DataFrame(columns=labels)\n\n# Next check each table row and append them to the dataframe\na = 0\nz = {}\ncounter = 0\nfor x in soup.table.find_all(['td']):\n    if a == len_col:\n        a = 0\n        if z['Neighbourhood'].strip('\\n') == 'Not assigned':\n            z['Neighbourhood'] = z['Borough']\n        if z['Borough'] != 'Not assigned':\n            t_df = t_df.append(z, ignore_index=True)\n        z = {}\n        counter = counter + 1\n    temp = x.string\n    if temp == None:\n        temp = x.find('a').string\n        temp = temp.strip('\\n')\n    z[labels[a]]=temp\n    a = a + 1\n\nt_df[0:10]\n", 
            "outputs": [
                {
                    "execution_count": 3, 
                    "output_type": "execute_result", 
                    "data": {
                        "text/plain": "  Postcode           Borough     Neighbourhood\n0      M3A        North York         Parkwoods\n1      M4A        North York  Victoria Village\n2      M5A  Downtown Toronto      Harbourfront\n3      M5A  Downtown Toronto       Regent Park\n4      M6A        North York  Lawrence Heights\n5      M6A        North York    Lawrence Manor\n6      M7A      Queen's Park      Queen's Park\n7      M9A         Etobicoke  Islington Avenue\n8      M1B       Scarborough             Rouge\n9      M1B       Scarborough           Malvern", 
                        "text/html": "<div>\n<style scoped>\n    .dataframe tbody tr th:only-of-type {\n        vertical-align: middle;\n    }\n\n    .dataframe tbody tr th {\n        vertical-align: top;\n    }\n\n    .dataframe thead th {\n        text-align: right;\n    }\n</style>\n<table border=\"1\" class=\"dataframe\">\n  <thead>\n    <tr style=\"text-align: right;\">\n      <th></th>\n      <th>Postcode</th>\n      <th>Borough</th>\n      <th>Neighbourhood</th>\n    </tr>\n  </thead>\n  <tbody>\n    <tr>\n      <th>0</th>\n      <td>M3A</td>\n      <td>North York</td>\n      <td>Parkwoods</td>\n    </tr>\n    <tr>\n      <th>1</th>\n      <td>M4A</td>\n      <td>North York</td>\n      <td>Victoria Village</td>\n    </tr>\n    <tr>\n      <th>2</th>\n      <td>M5A</td>\n      <td>Downtown Toronto</td>\n      <td>Harbourfront</td>\n    </tr>\n    <tr>\n      <th>3</th>\n      <td>M5A</td>\n      <td>Downtown Toronto</td>\n      <td>Regent Park</td>\n    </tr>\n    <tr>\n      <th>4</th>\n      <td>M6A</td>\n      <td>North York</td>\n      <td>Lawrence Heights</td>\n    </tr>\n    <tr>\n      <th>5</th>\n      <td>M6A</td>\n      <td>North York</td>\n      <td>Lawrence Manor</td>\n    </tr>\n    <tr>\n      <th>6</th>\n      <td>M7A</td>\n      <td>Queen's Park</td>\n      <td>Queen's Park</td>\n    </tr>\n    <tr>\n      <th>7</th>\n      <td>M9A</td>\n      <td>Etobicoke</td>\n      <td>Islington Avenue</td>\n    </tr>\n    <tr>\n      <th>8</th>\n      <td>M1B</td>\n      <td>Scarborough</td>\n      <td>Rouge</td>\n    </tr>\n    <tr>\n      <th>9</th>\n      <td>M1B</td>\n      <td>Scarborough</td>\n      <td>Malvern</td>\n    </tr>\n  </tbody>\n</table>\n</div>"
                    }, 
                    "metadata": {}
                }
            ], 
            "metadata": {}
        }, 
        {
            "source": "Next we will consolidate rows with the same Postcode by appending their Neighborhood values.", 
            "cell_type": "markdown", 
            "metadata": {}
        }, 
        {
            "execution_count": 4, 
            "cell_type": "code", 
            "source": "# Clean up duplicate postcodes, first by counting the number of duplicates, then appending the Neighborhood to the first entry\n\nfor x in t_df['Postcode']:\n    dupe_list = t_df.loc[t_df['Postcode']==x].index\n    dup = (len(t_df.loc[t_df['Postcode']==x].index))\n\n    while dup > 1:\n        if t_df.iloc[dupe_list[0]][2].find(t_df.iloc[dupe_list[dup-1]][2].strip('\\n')) < 0:\n\n            t_df.iloc[dupe_list[0]][2] = t_df.iloc[dupe_list[0]][2].strip('\\n') + ', ' + t_df.iloc[dupe_list[dup-1]][2].strip('\\n')\n        dup = dup - 1\nt_df.drop_duplicates(subset=['Postcode'], keep='first', inplace=True)        \nt_df[0:20]", 
            "outputs": [
                {
                    "execution_count": 4, 
                    "output_type": "execute_result", 
                    "data": {
                        "text/plain": "   Postcode           Borough  \\\n0       M3A        North York   \n1       M4A        North York   \n2       M5A  Downtown Toronto   \n4       M6A        North York   \n6       M7A      Queen's Park   \n7       M9A         Etobicoke   \n8       M1B       Scarborough   \n10      M3B        North York   \n11      M4B         East York   \n13      M5B  Downtown Toronto   \n15      M6B        North York   \n16      M9B         Etobicoke   \n21      M1C       Scarborough   \n24      M3C        North York   \n26      M4C         East York   \n27      M5C  Downtown Toronto   \n28      M6C              York   \n29      M9C         Etobicoke   \n33      M1E       Scarborough   \n36      M4E      East Toronto   \n\n                                        Neighbourhood  \n0                                           Parkwoods  \n1                                    Victoria Village  \n2                           Harbourfront, Regent Park  \n4                    Lawrence Heights, Lawrence Manor  \n6                                        Queen's Park  \n7                                    Islington Avenue  \n8                                      Rouge, Malvern  \n10                                   Don Mills North\n  \n11                    Woodbine Gardens, Parkview Hill  \n13                           Ryerson, Garden District  \n15                                          Glencairn  \n16  Cloverdale, West Deane Park, Princess Gardens,...  \n21             Highland Creek, Port Union, Rouge Hill  \n24                   Flemingdon Park, Don Mills South  \n26                                   Woodbine Heights  \n27                                     St. James Town  \n28                                 Humewood-Cedarvale  \n29  Bloordale Gardens, Old Burnhamthorpe, Markland...  \n33                  Guildwood, West Hill, Morningside  \n36                                        The Beaches  ", 
                        "text/html": "<div>\n<style scoped>\n    .dataframe tbody tr th:only-of-type {\n        vertical-align: middle;\n    }\n\n    .dataframe tbody tr th {\n        vertical-align: top;\n    }\n\n    .dataframe thead th {\n        text-align: right;\n    }\n</style>\n<table border=\"1\" class=\"dataframe\">\n  <thead>\n    <tr style=\"text-align: right;\">\n      <th></th>\n      <th>Postcode</th>\n      <th>Borough</th>\n      <th>Neighbourhood</th>\n    </tr>\n  </thead>\n  <tbody>\n    <tr>\n      <th>0</th>\n      <td>M3A</td>\n      <td>North York</td>\n      <td>Parkwoods</td>\n    </tr>\n    <tr>\n      <th>1</th>\n      <td>M4A</td>\n      <td>North York</td>\n      <td>Victoria Village</td>\n    </tr>\n    <tr>\n      <th>2</th>\n      <td>M5A</td>\n      <td>Downtown Toronto</td>\n      <td>Harbourfront, Regent Park</td>\n    </tr>\n    <tr>\n      <th>4</th>\n      <td>M6A</td>\n      <td>North York</td>\n      <td>Lawrence Heights, Lawrence Manor</td>\n    </tr>\n    <tr>\n      <th>6</th>\n      <td>M7A</td>\n      <td>Queen's Park</td>\n      <td>Queen's Park</td>\n    </tr>\n    <tr>\n      <th>7</th>\n      <td>M9A</td>\n      <td>Etobicoke</td>\n      <td>Islington Avenue</td>\n    </tr>\n    <tr>\n      <th>8</th>\n      <td>M1B</td>\n      <td>Scarborough</td>\n      <td>Rouge, Malvern</td>\n    </tr>\n    <tr>\n      <th>10</th>\n      <td>M3B</td>\n      <td>North York</td>\n      <td>Don Mills North</td>\n    </tr>\n    <tr>\n      <th>11</th>\n      <td>M4B</td>\n      <td>East York</td>\n      <td>Woodbine Gardens, Parkview Hill</td>\n    </tr>\n    <tr>\n      <th>13</th>\n      <td>M5B</td>\n      <td>Downtown Toronto</td>\n      <td>Ryerson, Garden District</td>\n    </tr>\n    <tr>\n      <th>15</th>\n      <td>M6B</td>\n      <td>North York</td>\n      <td>Glencairn</td>\n    </tr>\n    <tr>\n      <th>16</th>\n      <td>M9B</td>\n      <td>Etobicoke</td>\n      <td>Cloverdale, West Deane Park, Princess Gardens,...</td>\n    </tr>\n    <tr>\n      <th>21</th>\n      <td>M1C</td>\n      <td>Scarborough</td>\n      <td>Highland Creek, Port Union, Rouge Hill</td>\n    </tr>\n    <tr>\n      <th>24</th>\n      <td>M3C</td>\n      <td>North York</td>\n      <td>Flemingdon Park, Don Mills South</td>\n    </tr>\n    <tr>\n      <th>26</th>\n      <td>M4C</td>\n      <td>East York</td>\n      <td>Woodbine Heights</td>\n    </tr>\n    <tr>\n      <th>27</th>\n      <td>M5C</td>\n      <td>Downtown Toronto</td>\n      <td>St. James Town</td>\n    </tr>\n    <tr>\n      <th>28</th>\n      <td>M6C</td>\n      <td>York</td>\n      <td>Humewood-Cedarvale</td>\n    </tr>\n    <tr>\n      <th>29</th>\n      <td>M9C</td>\n      <td>Etobicoke</td>\n      <td>Bloordale Gardens, Old Burnhamthorpe, Markland...</td>\n    </tr>\n    <tr>\n      <th>33</th>\n      <td>M1E</td>\n      <td>Scarborough</td>\n      <td>Guildwood, West Hill, Morningside</td>\n    </tr>\n    <tr>\n      <th>36</th>\n      <td>M4E</td>\n      <td>East Toronto</td>\n      <td>The Beaches</td>\n    </tr>\n  </tbody>\n</table>\n</div>"
                    }, 
                    "metadata": {}
                }
            ], 
            "metadata": {}
        }, 
        {
            "source": "Finally we confirm the shape of the dataframe.", 
            "cell_type": "markdown", 
            "metadata": {}
        }, 
        {
            "execution_count": 5, 
            "cell_type": "code", 
            "source": "t_df.shape", 
            "outputs": [
                {
                    "execution_count": 5, 
                    "output_type": "execute_result", 
                    "data": {
                        "text/plain": "(103, 3)"
                    }, 
                    "metadata": {}
                }
            ], 
            "metadata": {}
        }
    ], 
    "nbformat": 4, 
    "metadata": {
        "kernelspec": {
            "display_name": "Python 3", 
            "name": "python3", 
            "language": "python"
        }, 
        "language_info": {
            "mimetype": "text/x-python", 
            "nbconvert_exporter": "python", 
            "version": "3.6.8", 
            "name": "python", 
            "file_extension": ".py", 
            "pygments_lexer": "ipython3", 
            "codemirror_mode": {
                "version": 3, 
                "name": "ipython"
            }
        }
    }
}