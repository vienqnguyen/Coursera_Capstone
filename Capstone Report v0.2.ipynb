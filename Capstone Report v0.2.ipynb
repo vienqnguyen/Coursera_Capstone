{
    "nbformat_minor": 1, 
    "cells": [
        {
            "source": "# Desirable Neighborhoods in San Francisco\n## By Vien Nguyen\n\n### Introduction\nA couple is moving into San Francisco, and they would like to pick their neighborhood based on several factors. They want to be close to public transit, nearby parks, and affordable restaurants. They would also like the adjacent neighborhoods to be desirable as well, as long as they are in walking distance (up to 1 mile).\n\n### Business Problem\nCan we build a model to recommend a neighborhood to live in, based on their specified criteria?\n", 
            "cell_type": "markdown", 
            "metadata": {
                "collapsed": true
            }
        }, 
        {
            "execution_count": null, 
            "cell_type": "code", 
            "metadata": {}, 
            "outputs": [], 
            "source": ""
        }
    ], 
    "metadata": {
        "kernelspec": {
            "display_name": "Python 3.5", 
            "name": "python3", 
            "language": "python"
        }, 
        "language_info": {
            "mimetype": "text/x-python", 
            "nbconvert_exporter": "python", 
            "version": "3.5.5", 
            "name": "python", 
            "file_extension": ".py", 
            "pygments_lexer": "ipython3", 
            "codemirror_mode": {
                "version": 3, 
                "name": "ipython"
            }
        }
    }, 
    "nbformat": 4
}