{
    "nbformat_minor": 1, 
    "cells": [
        {
            "source": "# Desirable Neighborhoods in San Francisco\n## By Vien Nguyen\n\n### Introduction\nA couple is moving into San Francisco, and they would like to pick their neighborhood based on several factors. They want to be close to public transit, nearby parks, and affordable restaurants. They would also like the adjacent neighborhoods to be desirable as well, as long as they are in walking distance (up to 1 mile).\n\n### Business Problem\nCan we build a model to recommend a neighborhood to live in, based on their specified criteria?\n\n### Data\nThe data draws upon neighborhood data from a GeoJSON file available from the Data Visualization with Python course. The data also draws upon the venues given by the FourSquare API. The venue data includes the transit, park, and restaurant data that is important to the addressing the problem. Since there are many venue types, they will need to be consolidated into meaningful categories. For example, bus stops, train stations, and light rails all fall under transit. Also, there is potentially relevant data about the venues, such as the affordability of the restaurants and ratings of the parks. We can use this data to rank the neighborhoods based on the problem criteria. We can also cluster the neighborhoods on the assumption that well-ranked adjacent neighborhoods will also be desirable in selecting a neighborhood to reside in.", 
            "cell_type": "markdown", 
            "metadata": {
                "collapsed": true
            }
        }, 
        {
            "execution_count": null, 
            "cell_type": "code", 
            "metadata": {}, 
            "outputs": [], 
            "source": ""
        }
    ], 
    "metadata": {
        "kernelspec": {
            "display_name": "Python 3.5", 
            "name": "python3", 
            "language": "python"
        }, 
        "language_info": {
            "mimetype": "text/x-python", 
            "nbconvert_exporter": "python", 
            "version": "3.5.5", 
            "name": "python", 
            "file_extension": ".py", 
            "pygments_lexer": "ipython3", 
            "codemirror_mode": {
                "version": 3, 
                "name": "ipython"
            }
        }
    }, 
    "nbformat": 4
}